{
 "cells": [
  {
   "cell_type": "markdown",
   "id": "ff574b9d-8b0c-425b-b38a-b0e49fa47be1",
   "metadata": {},
   "source": [
    "# 0316REPORT：Test on different input data format of Transformer model"
   ]
  },
  {
   "cell_type": "markdown",
   "id": "46f62bb9-0515-46bc-9bee-1e21cdb4f114",
   "metadata": {},
   "source": [
    "## Model introduction\n",
    "\n",
    "The model is construct based on transformer model's encoder mudule. The Encoder module is used to encode the input sequence into a series of representations for use by subsequent modules. It is stacked by multiple identical layers, and each layer usually consists of two sub-layers: Self-Attention Layer and Feedforward Neural Network. \n",
    "\n",
    "The self-attention layer is an important component in the Encoder. It is able to compute a context-sensitive representation for each position in the input sequence. The self-attention mechanism allows the model to model the dependencies between different positions when processing the input sequence, thereby better capturing long-distance dependencies in the sequence. At each position, the self-attention layer computes a weighted representation that takes into account information from all other positions in the input sequence. \n",
    "\n",
    "In the self-attention layer, the dimensions of the query, key, and value are usually the same and the same as the dimensions of the input sequence. Assuming that the length of the input sequence is N and the feature dimension of each position is d, the dimensions of the query, key and value are (N, d). Here we also apply multihead self attension mechanism. It maps the input sequence into multiple subspaces and calculates attention weights in each subspace. Finally, the attention-weighted representations of multiple subspaces are combined to obtain the final output representation. The number of head is H.\n",
    "\n",
    "After the self-attention layer, the Encoder module usually contains a feedforward neural network layer. This feedforward neural network layer usually consists of two linear transformations and a nonlinear activation function, such as ReLU. It acts on the representation at each position and performs non-linear transformation and mapping on the representation, thereby enhancing the expressive ability ofthe model.\n",
    "\n",
    "The number of model parameter is mainly depend on d and k. For k, we can direct adjust it. For d, we should alter it by different input data format.\n",
    "\n",
    "\n",
    "## Algorithm\n",
    "\n",
    "To minimize loss function by backward propogation, we used algorithm Adam. Adam (Adaptive Moment Estimation) is an adaptive learning rate optimization algorithm that combines the characteristics of the momentum method and adaptive learning rate adjustment. It can effectively adjust the learning rate and adaptively adjust the learning rate of each parameter during the train\n",
    "\n",
    "The Adam algorithm uses the concept of momentum to speed up the gradient descent process. It considers not only the direction of the current gradient but also the direction of previous gradients when updating parameters. This allows for faster movement in parameter space and can help overcome local minima. The Adam algorithm also introduces the concept of adaptive learning rate. It maintains an adaptive learning rate for each parameter, which is adjusted based on the first moment estimate (mean) and second moment estimate (variance) of the parameter's gradient. This allows the learning rate of each parameter to dynamically adapt to parameter updates during the training process.\n",
    "\n",
    "When using the Adam optimizer in PyTorch, we can adjust several parameters to achieve better performance:\n",
    "lr (learning rate): controls the step size of parameter update.  \n",
    "betas (exponential decay rate of momentum and squared gradient terms): adjust the direction and size of parameter updates.  \n",
    "eps (numeric stability parameter): prevents divide-by-zero errors.  \n",
    "weight_decay: Penalizes the size of model parameters to reduce overfitting.  \n",
    "\n",
    "In our MNIST example, we use MSE difference between input and output as the loss function. The expect output should be very similar to the input image."
   ]
  },
  {
   "cell_type": "markdown",
   "id": "28e0897e-808a-4b13-99eb-80535e1cf31c",
   "metadata": {},
   "source": [
    "## Dataset\n",
    "\n",
    "The MNIST (Mixed National Institute of Standards and Technology) dataset is a commonly used handwritten digit recognition dataset used to train and test machine learning models. It consists of images of handwritten digits from the National Institute of Standards and Technology, including the digits 0 to 9. Each image is a 28x28 pixel grayscale image representing a handwritten digit.\n",
    "\n",
    "The MNIST dataset is commonly used to test and evaluate image classification algorithms and models. Due to its simplicity and standardization, it has become one of the benchmark datasets in the field of machine learning. Many studies and experiments use the MNIST dataset to verify the performance of new algorithms or models.\n",
    "\n",
    "Its training image set contains 60,000 images of handwritten digits used to train the model. Here, we selected 20,000 of them for model training."
   ]
  },
  {
   "cell_type": "markdown",
   "id": "2424f4d5-e5af-464d-a890-4f628b7366ee",
   "metadata": {},
   "source": [
    "## Result\n",
    "\n",
    "The MNIST dataset lacks positional information within its images, hindering direct training and making it difficult to handle noise effectively. As a solution, we propose partitioning the input matrix to retain positional information.\n",
    "One way of introducing positional information is to divide input into several blocks(m*m) and contact as input. After encoder transforamtion, we can recover image by assemble each block in the original order.\n",
    " In this section, we aim to evaluate the impact of different data input formats on our model's performance. The default setting for parameters ar：\n",
    "\n",
    "1.Settings for encoder：  \n",
    "\n",
    "n = 28      input matrix: batch_size x n x n;  \n",
    "d = 28       dimension of data feature;  \n",
    "k = 12      dimension of W feature;  \n",
    "h = 8       number of heads;  \n",
    "p = 100       dimension of feed forward;  \n",
    "L = 6       number of l;  \n",
    "\n",
    "2.Settings for block divisionyers  \n",
    "\n",
    "contact = False     whether use block;  \n",
    "m = 4       block size: m x m;  \n",
    "col = True      Default vertical contact;  \n",
    "overlap = False     Default non-overlap;  \n",
    "stride = 2      stride lengthpsize if overlap;  \n",
    "\n",
    "3.Settings for algorithm  \n",
    "batch_size=20 epoches = 5 lr = 0.001 stride = 2  \n",
    "\n",
    "Notice in following part, we will compare performance by both decreasing of loss and the visualized similarity of input and output. The default parameter number will not be altered."
   ]
  },
  {
   "cell_type": "code",
   "execution_count": 3,
   "id": "01f1f550-333a-417d-9cd8-0c59dd1def12",
   "metadata": {},
   "outputs": [],
   "source": [
    "from MNIST import main"
   ]
  },
  {
   "cell_type": "markdown",
   "id": "781dfc46-2dc7-4094-a61b-d5d755664b29",
   "metadata": {},
   "source": [
    "First, we test original input (28*28) regardless of positional information."
   ]
  },
  {
   "cell_type": "code",
   "execution_count": 4,
   "id": "fcd944fb-5ea6-4d6d-aa4a-180bce7a78c3",
   "metadata": {},
   "outputs": [
    {
     "name": "stdout",
     "output_type": "stream",
     "text": [
      "The 1 th epoch is:\n",
      "epochs:[0],iteration:[0]/[1000],loss:1.296\n",
      "epochs:[0],iteration:[250]/[1000],loss:0.958\n",
      "epochs:[0],iteration:[500]/[1000],loss:0.973\n",
      "epochs:[0],iteration:[750]/[1000],loss:1.009\n",
      "The 2 th epoch is:\n",
      "epochs:[1],iteration:[0]/[1000],loss:1.031\n",
      "epochs:[1],iteration:[250]/[1000],loss:0.956\n",
      "epochs:[1],iteration:[500]/[1000],loss:0.972\n",
      "epochs:[1],iteration:[750]/[1000],loss:1.009\n",
      "The 3 th epoch is:\n",
      "epochs:[2],iteration:[0]/[1000],loss:1.031\n",
      "epochs:[2],iteration:[250]/[1000],loss:0.956\n",
      "epochs:[2],iteration:[500]/[1000],loss:0.972\n",
      "epochs:[2],iteration:[750]/[1000],loss:1.009\n",
      "The 4 th epoch is:\n",
      "epochs:[3],iteration:[0]/[1000],loss:1.030\n",
      "epochs:[3],iteration:[250]/[1000],loss:0.956\n",
      "epochs:[3],iteration:[500]/[1000],loss:0.972\n",
      "epochs:[3],iteration:[750]/[1000],loss:1.008\n",
      "The 5 th epoch is:\n",
      "epochs:[4],iteration:[0]/[1000],loss:1.030\n",
      "epochs:[4],iteration:[250]/[1000],loss:0.956\n",
      "epochs:[4],iteration:[500]/[1000],loss:0.972\n",
      "epochs:[4],iteration:[750]/[1000],loss:1.008\n"
     ]
    },
    {
     "data": {
      "image/png": "[encoded data removed]",
      "text/plain": [
       "<Figure size 640x480 with 8 Axes>"
      ]
     },
     "metadata": {},
     "output_type": "display_data"
    }
   ],
   "source": [
    "main()"
   ]
  },
  {
   "cell_type": "markdown",
   "id": "1ae688df-40b4-49ed-8233-197985dd8bc5",
   "metadata": {},
   "source": [
    "Compare the input image(right) and output image(left), we find that there exist many noise. The loss function can't well decrease."
   ]
  },
  {
   "cell_type": "markdown",
   "id": "d7da98e9-0454-4c22-80a0-cbc18a876aa8",
   "metadata": {},
   "source": [
    "Then, we test input with vertical contact(112*7). In this setting, we divide original 28*28 image into 16 blocks(7*7), and assemble each block in vertical direction."
   ]
  },
  {
   "cell_type": "code",
   "execution_count": 5,
   "id": "327fb27d-c98f-4adf-847b-b575eaf70324",
   "metadata": {},
   "outputs": [
    {
     "name": "stdout",
     "output_type": "stream",
     "text": [
      "The 1 th epoch is:\n",
      "epochs:[0],iteration:[0]/[1000],loss:1.472\n",
      "epochs:[0],iteration:[250]/[1000],loss:1.308\n",
      "epochs:[0],iteration:[500]/[1000],loss:1.339\n",
      "epochs:[0],iteration:[750]/[1000],loss:1.359\n",
      "The 2 th epoch is:\n",
      "epochs:[1],iteration:[0]/[1000],loss:1.367\n",
      "epochs:[1],iteration:[250]/[1000],loss:1.308\n",
      "epochs:[1],iteration:[500]/[1000],loss:1.339\n",
      "epochs:[1],iteration:[750]/[1000],loss:1.359\n",
      "The 3 th epoch is:\n",
      "epochs:[2],iteration:[0]/[1000],loss:1.366\n",
      "epochs:[2],iteration:[250]/[1000],loss:1.308\n",
      "epochs:[2],iteration:[500]/[1000],loss:1.339\n",
      "epochs:[2],iteration:[750]/[1000],loss:1.359\n",
      "The 4 th epoch is:\n",
      "epochs:[3],iteration:[0]/[1000],loss:1.366\n",
      "epochs:[3],iteration:[250]/[1000],loss:1.308\n",
      "epochs:[3],iteration:[500]/[1000],loss:1.339\n",
      "epochs:[3],iteration:[750]/[1000],loss:1.359\n",
      "The 5 th epoch is:\n",
      "epochs:[4],iteration:[0]/[1000],loss:1.366\n",
      "epochs:[4],iteration:[250]/[1000],loss:1.308\n",
      "epochs:[4],iteration:[500]/[1000],loss:1.339\n",
      "epochs:[4],iteration:[750]/[1000],loss:1.359\n"
     ]
    },
    {
     "data": {
      "image/png": "[encoded data removed]",
      "text/plain": [
       "<Figure size 640x480 with 8 Axes>"
      ]
     },
     "metadata": {},
     "output_type": "display_data"
    }
   ],
   "source": [
    "main(contact = True)"
   ]
  },
  {
   "cell_type": "markdown",
   "id": "bc11da7a-8c24-4a20-a83e-1909bb392ba2",
   "metadata": {},
   "source": [
    "Compare the input image(right) and output image(left), we find that there exist many noise. The loss function can't well decrease."
   ]
  },
  {
   "cell_type": "markdown",
   "id": "d2815017-a864-4cac-b846-75c07f4ced48",
   "metadata": {},
   "source": [
    "Next, we test input with horizontal contact(7*112). In this setting, we divide original 28*28 image into 16 blocks(7*7), and assemble each block in horizontal direction."
   ]
  },
  {
   "cell_type": "code",
   "execution_count": 6,
   "id": "72d3314d-efbc-4be3-bdd3-e3e55da2619e",
   "metadata": {},
   "outputs": [
    {
     "name": "stdout",
     "output_type": "stream",
     "text": [
      "The 1 th epoch is:\n",
      "epochs:[0],iteration:[0]/[1000],loss:1.177\n",
      "epochs:[0],iteration:[250]/[1000],loss:0.701\n",
      "epochs:[0],iteration:[500]/[1000],loss:0.718\n",
      "epochs:[0],iteration:[750]/[1000],loss:0.767\n",
      "The 2 th epoch is:\n",
      "epochs:[1],iteration:[0]/[1000],loss:0.796\n",
      "epochs:[1],iteration:[250]/[1000],loss:0.698\n",
      "epochs:[1],iteration:[500]/[1000],loss:0.718\n",
      "epochs:[1],iteration:[750]/[1000],loss:0.766\n",
      "The 3 th epoch is:\n",
      "epochs:[2],iteration:[0]/[1000],loss:0.796\n",
      "epochs:[2],iteration:[250]/[1000],loss:0.698\n",
      "epochs:[2],iteration:[500]/[1000],loss:0.718\n",
      "epochs:[2],iteration:[750]/[1000],loss:0.766\n",
      "The 4 th epoch is:\n",
      "epochs:[3],iteration:[0]/[1000],loss:0.796\n",
      "epochs:[3],iteration:[250]/[1000],loss:0.697\n",
      "epochs:[3],iteration:[500]/[1000],loss:0.718\n",
      "epochs:[3],iteration:[750]/[1000],loss:0.766\n",
      "The 5 th epoch is:\n",
      "epochs:[4],iteration:[0]/[1000],loss:0.796\n",
      "epochs:[4],iteration:[250]/[1000],loss:0.698\n",
      "epochs:[4],iteration:[500]/[1000],loss:0.718\n",
      "epochs:[4],iteration:[750]/[1000],loss:0.766\n"
     ]
    },
    {
     "data": {
      "image/png": "[encoded data removed]",
      "text/plain": [
       "<Figure size 640x480 with 8 Axes>"
      ]
     },
     "metadata": {},
     "output_type": "display_data"
    }
   ],
   "source": [
    "main(contact = True,col=False)"
   ]
  },
  {
   "cell_type": "markdown",
   "id": "12a1f135-037a-4322-ad25-47440bdf4ac8",
   "metadata": {},
   "source": [
    "Compare the input image(right) and output image(left), we find that there still exist some noise. The loss function can't well converge."
   ]
  },
  {
   "cell_type": "markdown",
   "id": "4c170a8f-0f43-434d-88c2-6224af5e6711",
   "metadata": {},
   "source": [
    "Finally, we test input with contact of overlap blocks(7*448). In this setting, split operations are performed in two dimensions, using a window of size 7 and a stride of 3 for each split. Finally we will obtain 64 blocks(7*7) and vertical contact them. The ancillary part will be cut out after transformation."
   ]
  },
  {
   "cell_type": "code",
   "execution_count": 7,
   "id": "7efd865b-d461-4ed8-941c-e7615445ca9c",
   "metadata": {},
   "outputs": [
    {
     "name": "stdout",
     "output_type": "stream",
     "text": [
      "The 1 th epoch is:\n",
      "epochs:[0],iteration:[0]/[1000],loss:1.093\n",
      "epochs:[0],iteration:[250]/[1000],loss:0.004\n",
      "epochs:[0],iteration:[500]/[1000],loss:0.002\n",
      "epochs:[0],iteration:[750]/[1000],loss:0.001\n",
      "The 2 th epoch is:\n",
      "epochs:[1],iteration:[0]/[1000],loss:0.001\n",
      "epochs:[1],iteration:[250]/[1000],loss:0.002\n",
      "epochs:[1],iteration:[500]/[1000],loss:0.001\n",
      "epochs:[1],iteration:[750]/[1000],loss:0.001\n",
      "The 3 th epoch is:\n",
      "epochs:[2],iteration:[0]/[1000],loss:0.001\n",
      "epochs:[2],iteration:[250]/[1000],loss:0.001\n",
      "epochs:[2],iteration:[500]/[1000],loss:0.001\n",
      "epochs:[2],iteration:[750]/[1000],loss:0.001\n",
      "The 4 th epoch is:\n",
      "epochs:[3],iteration:[0]/[1000],loss:0.001\n",
      "epochs:[3],iteration:[250]/[1000],loss:0.001\n",
      "epochs:[3],iteration:[500]/[1000],loss:0.000\n",
      "epochs:[3],iteration:[750]/[1000],loss:0.001\n",
      "The 5 th epoch is:\n",
      "epochs:[4],iteration:[0]/[1000],loss:0.001\n",
      "epochs:[4],iteration:[250]/[1000],loss:0.001\n",
      "epochs:[4],iteration:[500]/[1000],loss:0.001\n",
      "epochs:[4],iteration:[750]/[1000],loss:0.000\n"
     ]
    },
    {
     "data": {
      "image/png": "[encoded data removed]",
      "text/plain": [
       "<Figure size 640x480 with 8 Axes>"
      ]
     },
     "metadata": {},
     "output_type": "display_data"
    }
   ],
   "source": [
    "main(contact=True,col=False,overlap=True)"
   ]
  },
  {
   "cell_type": "markdown",
   "id": "615928c2-49c6-484c-b8c4-0239c18af521",
   "metadata": {},
   "source": [
    "Compare the input image(right) and output image(left), we find that they are almost identical. The loss function converge very fast at first few iterations. The performance is the best."
   ]
  },
  {
   "cell_type": "markdown",
   "id": "f6c82ed9-0097-42a7-8768-334981f8fd2d",
   "metadata": {},
   "source": [
    "## Conclusion\n",
    "\n",
    "Based on four output, we can conclude that: divide by blocks can combine position information into dataset, and help improve performance；Compare to contact block vertically, contact block horizontally will show better performance; Compare to non-overlap block, overlap block converge faster in loss function and have better performance.\n",
    "Compared with the results reported last time(reshape different input size of 28*28,4*196,1*784...), this result gives the same conclusion: for the input data (n*d), the larger d, the better the performance of the model."
   ]
  }
 ],
 "metadata": {
  "kernelspec": {
   "display_name": "Python 3 (ipykernel)",
   "language": "python",
   "name": "python3"
  },
  "language_info": {
   "codemirror_mode": {
    "name": "ipython",
    "version": 3
   },
   "file_extension": ".py",
   "mimetype": "text/x-python",
   "name": "python",
   "nbconvert_exporter": "python",
   "pygments_lexer": "ipython3",
   "version": "3.11.4"
  }
 },
 "nbformat": 4,
 "nbformat_minor": 5
}
